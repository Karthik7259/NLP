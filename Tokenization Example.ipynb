{
 "cells": [
  {
   "cell_type": "code",
   "execution_count": 1,
   "id": "1a3755ca",
   "metadata": {},
   "outputs": [
    {
     "name": "stdout",
     "output_type": "stream",
     "text": [
      "Requirement already satisfied: nltk in c:\\users\\karth\\anaconda3\\lib\\site-packages (3.9.1)\n",
      "Requirement already satisfied: click in c:\\users\\karth\\anaconda3\\lib\\site-packages (from nltk) (8.1.7)\n",
      "Requirement already satisfied: joblib in c:\\users\\karth\\anaconda3\\lib\\site-packages (from nltk) (1.4.2)\n",
      "Requirement already satisfied: regex>=2021.8.3 in c:\\users\\karth\\anaconda3\\lib\\site-packages (from nltk) (2024.9.11)\n",
      "Requirement already satisfied: tqdm in c:\\users\\karth\\anaconda3\\lib\\site-packages (from nltk) (4.66.5)\n",
      "Requirement already satisfied: colorama in c:\\users\\karth\\anaconda3\\lib\\site-packages (from click->nltk) (0.4.6)\n"
     ]
    }
   ],
   "source": [
    "!pip install nltk\n"
   ]
  },
  {
   "cell_type": "code",
   "execution_count": 11,
   "id": "e44b75f9",
   "metadata": {},
   "outputs": [],
   "source": [
    "Corpus =\"\"\"Hello welcome ,to the world of Natural Language Processing.\n",
    "Plase enjoy ! the journey of learning and exploring new things.\n",
    "\"\"\"\n",
    "                        "
   ]
  },
  {
   "cell_type": "code",
   "execution_count": 12,
   "id": "11456797",
   "metadata": {},
   "outputs": [
    {
     "name": "stdout",
     "output_type": "stream",
     "text": [
      "Hello welcome ,to the world of Natural Language Processing.\n",
      "Plase enjoy ! the journey of learning and exploring new things.\n",
      "\n"
     ]
    }
   ],
   "source": [
    "print(Corpus)"
   ]
  },
  {
   "cell_type": "code",
   "execution_count": 13,
   "id": "3858d305",
   "metadata": {},
   "outputs": [],
   "source": [
    "## TOkenization\n",
    "\n",
    "## sentence --> paragraph\n",
    "\n",
    "from nltk.tokenize import sent_tokenize\n",
    "\n"
   ]
  },
  {
   "cell_type": "code",
   "execution_count": 15,
   "id": "29108f8a",
   "metadata": {},
   "outputs": [],
   "source": [
    "documents = sent_tokenize(Corpus)"
   ]
  },
  {
   "cell_type": "code",
   "execution_count": 16,
   "id": "36a5a1c9",
   "metadata": {},
   "outputs": [
    {
     "data": {
      "text/plain": [
       "list"
      ]
     },
     "execution_count": 16,
     "metadata": {},
     "output_type": "execute_result"
    }
   ],
   "source": [
    "type(documents)"
   ]
  },
  {
   "cell_type": "code",
   "execution_count": 17,
   "id": "39740cfc",
   "metadata": {},
   "outputs": [
    {
     "name": "stdout",
     "output_type": "stream",
     "text": [
      "Hello welcome ,to the world of Natural Language Processing.\n",
      "Plase enjoy !\n",
      "the journey of learning and exploring new things.\n"
     ]
    }
   ],
   "source": [
    "for sentence in documents:\n",
    "    print(sentence)"
   ]
  },
  {
   "cell_type": "code",
   "execution_count": 18,
   "id": "83c03654",
   "metadata": {},
   "outputs": [],
   "source": [
    "## Tokenization\n",
    "## Paragraph --> words\n",
    "## sentence  --> words\n",
    "\n",
    "from nltk.tokenize import word_tokenize\n"
   ]
  },
  {
   "cell_type": "code",
   "execution_count": 19,
   "id": "26e7330f",
   "metadata": {},
   "outputs": [
    {
     "data": {
      "text/plain": [
       "['Hello',\n",
       " 'welcome',\n",
       " ',',\n",
       " 'to',\n",
       " 'the',\n",
       " 'world',\n",
       " 'of',\n",
       " 'Natural',\n",
       " 'Language',\n",
       " 'Processing',\n",
       " '.',\n",
       " 'Plase',\n",
       " 'enjoy',\n",
       " '!',\n",
       " 'the',\n",
       " 'journey',\n",
       " 'of',\n",
       " 'learning',\n",
       " 'and',\n",
       " 'exploring',\n",
       " 'new',\n",
       " 'things',\n",
       " '.']"
      ]
     },
     "execution_count": 19,
     "metadata": {},
     "output_type": "execute_result"
    }
   ],
   "source": [
    "word_tokenize(Corpus)"
   ]
  },
  {
   "cell_type": "code",
   "execution_count": 20,
   "id": "16e0fc41",
   "metadata": {},
   "outputs": [
    {
     "name": "stdout",
     "output_type": "stream",
     "text": [
      "['Hello', 'welcome', ',', 'to', 'the', 'world', 'of', 'Natural', 'Language', 'Processing', '.']\n",
      "['Plase', 'enjoy', '!']\n",
      "['the', 'journey', 'of', 'learning', 'and', 'exploring', 'new', 'things', '.']\n"
     ]
    }
   ],
   "source": [
    "for sentence in documents:\n",
    "    print(word_tokenize(sentence))"
   ]
  },
  {
   "cell_type": "code",
   "execution_count": 21,
   "id": "0f84e90e",
   "metadata": {},
   "outputs": [],
   "source": [
    "from nltk.tokenize import wordpunct_tokenize"
   ]
  },
  {
   "cell_type": "code",
   "execution_count": 22,
   "id": "d6ad3cf1",
   "metadata": {},
   "outputs": [
    {
     "data": {
      "text/plain": [
       "['Hello',\n",
       " 'welcome',\n",
       " ',',\n",
       " 'to',\n",
       " 'the',\n",
       " 'world',\n",
       " 'of',\n",
       " 'Natural',\n",
       " 'Language',\n",
       " 'Processing',\n",
       " '.',\n",
       " 'Plase',\n",
       " 'enjoy',\n",
       " '!',\n",
       " 'the',\n",
       " 'journey',\n",
       " 'of',\n",
       " 'learning',\n",
       " 'and',\n",
       " 'exploring',\n",
       " 'new',\n",
       " 'things',\n",
       " '.']"
      ]
     },
     "execution_count": 22,
     "metadata": {},
     "output_type": "execute_result"
    }
   ],
   "source": [
    "wordpunct_tokenize(Corpus)"
   ]
  },
  {
   "cell_type": "code",
   "execution_count": 23,
   "id": "6f71a3bf",
   "metadata": {},
   "outputs": [],
   "source": [
    "from nltk.tokenize import   TreebankWordTokenizer"
   ]
  },
  {
   "cell_type": "code",
   "execution_count": 25,
   "id": "b2b546b8",
   "metadata": {},
   "outputs": [],
   "source": [
    "tokenizer=TreebankWordTokenizer()"
   ]
  },
  {
   "cell_type": "code",
   "execution_count": 26,
   "id": "c4d859d4",
   "metadata": {},
   "outputs": [
    {
     "data": {
      "text/plain": [
       "['Hello',\n",
       " 'welcome',\n",
       " ',',\n",
       " 'to',\n",
       " 'the',\n",
       " 'world',\n",
       " 'of',\n",
       " 'Natural',\n",
       " 'Language',\n",
       " 'Processing.',\n",
       " 'Plase',\n",
       " 'enjoy',\n",
       " '!',\n",
       " 'the',\n",
       " 'journey',\n",
       " 'of',\n",
       " 'learning',\n",
       " 'and',\n",
       " 'exploring',\n",
       " 'new',\n",
       " 'things',\n",
       " '.']"
      ]
     },
     "execution_count": 26,
     "metadata": {},
     "output_type": "execute_result"
    }
   ],
   "source": [
    "tokenizer.tokenize(Corpus)"
   ]
  },
  {
   "cell_type": "code",
   "execution_count": null,
   "id": "1eeafe65",
   "metadata": {},
   "outputs": [],
   "source": []
  }
 ],
 "metadata": {
  "kernelspec": {
   "display_name": "base",
   "language": "python",
   "name": "python3"
  },
  "language_info": {
   "codemirror_mode": {
    "name": "ipython",
    "version": 3
   },
   "file_extension": ".py",
   "mimetype": "text/x-python",
   "name": "python",
   "nbconvert_exporter": "python",
   "pygments_lexer": "ipython3",
   "version": "3.12.7"
  }
 },
 "nbformat": 4,
 "nbformat_minor": 5
}
